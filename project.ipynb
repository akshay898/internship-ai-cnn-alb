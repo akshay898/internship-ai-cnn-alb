{
 "cells": [
  {
   "cell_type": "code",
   "execution_count": 3,
   "metadata": {},
   "outputs": [
    {
     "name": "stderr",
     "output_type": "stream",
     "text": [
      "Using TensorFlow backend.\n"
     ]
    }
   ],
   "source": [
    "#import keras libraries\n",
    "from keras.models import Sequential\n",
    "from keras.layers import Dense\n",
    "from keras.layers import Conv2D\n",
    "from keras.layers import MaxPooling2D\n",
    "from keras.layers import Flatten"
   ]
  },
  {
   "cell_type": "code",
   "execution_count": 4,
   "metadata": {},
   "outputs": [],
   "source": [
    "model=Sequential()"
   ]
  },
  {
   "cell_type": "code",
   "execution_count": 5,
   "metadata": {},
   "outputs": [
    {
     "name": "stdout",
     "output_type": "stream",
     "text": [
      "WARNING:tensorflow:From C:\\Users\\Bindhu Ravindra\\Anaconda3\\lib\\site-packages\\tensorflow\\python\\framework\\op_def_library.py:263: colocate_with (from tensorflow.python.framework.ops) is deprecated and will be removed in a future version.\n",
      "Instructions for updating:\n",
      "Colocations handled automatically by placer.\n"
     ]
    },
    {
     "name": "stderr",
     "output_type": "stream",
     "text": [
      "C:\\Users\\Bindhu Ravindra\\Anaconda3\\lib\\site-packages\\ipykernel_launcher.py:1: UserWarning: Update your `Conv2D` call to the Keras 2 API: `Conv2D(32, (3, 3), input_shape=(128, 128,..., activation=\"relu\")`\n",
      "  \"\"\"Entry point for launching an IPython kernel.\n"
     ]
    }
   ],
   "source": [
    "model.add(Conv2D(32,3,3,input_shape=(128,128,3),activation='relu'))#1St parameter =no of features detectors 2nd& 3rd =Size of feature detector, \n",
    "#4th input image size,5 th parameter is channel for color=3 gray scale=1,6 th to avoid negative pixels we use activation function"
   ]
  },
  {
   "cell_type": "code",
   "execution_count": 6,
   "metadata": {},
   "outputs": [],
   "source": [
    "model.add(MaxPooling2D(pool_size=(2,2)))#1parmeter=size of pooling matrix"
   ]
  },
  {
   "cell_type": "code",
   "execution_count": 7,
   "metadata": {},
   "outputs": [],
   "source": [
    "model.add(Flatten())"
   ]
  },
  {
   "cell_type": "code",
   "execution_count": 8,
   "metadata": {},
   "outputs": [
    {
     "name": "stderr",
     "output_type": "stream",
     "text": [
      "C:\\Users\\Bindhu Ravindra\\Anaconda3\\lib\\site-packages\\ipykernel_launcher.py:1: UserWarning: Update your `Dense` call to the Keras 2 API: `Dense(activation=\"relu\", units=128, kernel_initializer=\"random_uniform\")`\n",
      "  \"\"\"Entry point for launching an IPython kernel.\n"
     ]
    }
   ],
   "source": [
    "model.add(Dense(output_dim=128,activation='relu',init='random_uniform'))"
   ]
  },
  {
   "cell_type": "code",
   "execution_count": 9,
   "metadata": {},
   "outputs": [
    {
     "name": "stderr",
     "output_type": "stream",
     "text": [
      "C:\\Users\\Bindhu Ravindra\\Anaconda3\\lib\\site-packages\\ipykernel_launcher.py:1: UserWarning: Update your `Dense` call to the Keras 2 API: `Dense(activation=\"relu\", units=60, kernel_initializer=\"random_uniform\")`\n",
      "  \"\"\"Entry point for launching an IPython kernel.\n"
     ]
    }
   ],
   "source": [
    "model.add(Dense(output_dim=60,activation='relu',init='random_uniform'))"
   ]
  },
  {
   "cell_type": "code",
   "execution_count": 10,
   "metadata": {},
   "outputs": [
    {
     "name": "stderr",
     "output_type": "stream",
     "text": [
      "C:\\Users\\Bindhu Ravindra\\Anaconda3\\lib\\site-packages\\ipykernel_launcher.py:1: UserWarning: Update your `Dense` call to the Keras 2 API: `Dense(activation=\"relu\", units=30, kernel_initializer=\"random_uniform\")`\n",
      "  \"\"\"Entry point for launching an IPython kernel.\n"
     ]
    }
   ],
   "source": [
    "model.add(Dense(output_dim=30,activation='relu',init='random_uniform'))"
   ]
  },
  {
   "cell_type": "code",
   "execution_count": 11,
   "metadata": {},
   "outputs": [
    {
     "name": "stderr",
     "output_type": "stream",
     "text": [
      "C:\\Users\\Bindhu Ravindra\\Anaconda3\\lib\\site-packages\\ipykernel_launcher.py:1: UserWarning: Update your `Dense` call to the Keras 2 API: `Dense(activation=\"sigmoid\", units=2, kernel_initializer=\"random_uniform\")`\n",
      "  \"\"\"Entry point for launching an IPython kernel.\n"
     ]
    }
   ],
   "source": [
    "model.add(Dense(output_dim=2,activation='sigmoid',init='random_uniform'))"
   ]
  },
  {
   "cell_type": "code",
   "execution_count": 12,
   "metadata": {},
   "outputs": [],
   "source": [
    "model.compile(optimizer='adam',loss='binary_crossentropy',metrics=['accuracy'])"
   ]
  },
  {
   "cell_type": "code",
   "execution_count": 13,
   "metadata": {},
   "outputs": [],
   "source": [
    "from keras.preprocessing.image import ImageDataGenerator"
   ]
  },
  {
   "cell_type": "code",
   "execution_count": 14,
   "metadata": {},
   "outputs": [],
   "source": [
    "train_datagen=ImageDataGenerator(rescale=1./255,shear_range=0.2,zoom_range=0.2,horizontal_flip=True)\n",
    "test_datagen = ImageDataGenerator(rescale=1./255)"
   ]
  },
  {
   "cell_type": "code",
   "execution_count": 15,
   "metadata": {},
   "outputs": [
    {
     "name": "stdout",
     "output_type": "stream",
     "text": [
      "Found 189 images belonging to 2 classes.\n",
      "Found 57 images belonging to 2 classes.\n"
     ]
    }
   ],
   "source": [
    "x_train = train_datagen.flow_from_directory(r'C:\\Users\\Bindhu Ravindra\\Documents\\lalala\\trainset',target_size=(128,128),batch_size=9,class_mode='categorical')\n",
    "x_test = test_datagen.flow_from_directory(r'C:\\Users\\Bindhu Ravindra\\Documents\\lalala\\testset',target_size=(128,128),batch_size=9,class_mode='categorical')"
   ]
  },
  {
   "cell_type": "code",
   "execution_count": 16,
   "metadata": {},
   "outputs": [
    {
     "name": "stdout",
     "output_type": "stream",
     "text": [
      "{'elen': 0, 'modi': 1}\n",
      "{'elen': 0, 'modi': 1}\n"
     ]
    }
   ],
   "source": [
    "print(x_train.class_indices)\n",
    "print(x_test.class_indices)"
   ]
  },
  {
   "cell_type": "code",
   "execution_count": 17,
   "metadata": {},
   "outputs": [
    {
     "name": "stdout",
     "output_type": "stream",
     "text": [
      "WARNING:tensorflow:From C:\\Users\\Bindhu Ravindra\\Anaconda3\\lib\\site-packages\\tensorflow\\python\\ops\\math_ops.py:3066: to_int32 (from tensorflow.python.ops.math_ops) is deprecated and will be removed in a future version.\n",
      "Instructions for updating:\n",
      "Use tf.cast instead.\n"
     ]
    },
    {
     "name": "stderr",
     "output_type": "stream",
     "text": [
      "C:\\Users\\Bindhu Ravindra\\Anaconda3\\lib\\site-packages\\ipykernel_launcher.py:1: UserWarning: The semantics of the Keras 2 argument `steps_per_epoch` is not the same as the Keras 1 argument `samples_per_epoch`. `steps_per_epoch` is the number of batches to draw from the generator at each epoch. Basically steps_per_epoch = samples_per_epoch/batch_size. Similarly `nb_val_samples`->`validation_steps` and `val_samples`->`steps` arguments have changed. Update your method calls accordingly.\n",
      "  \"\"\"Entry point for launching an IPython kernel.\n",
      "C:\\Users\\Bindhu Ravindra\\Anaconda3\\lib\\site-packages\\ipykernel_launcher.py:1: UserWarning: Update your `fit_generator` call to the Keras 2 API: `fit_generator(<keras_pre..., epochs=40, validation_data=<keras_pre..., steps_per_epoch=2, validation_steps=57)`\n",
      "  \"\"\"Entry point for launching an IPython kernel.\n"
     ]
    },
    {
     "name": "stdout",
     "output_type": "stream",
     "text": [
      "Epoch 1/40\n",
      "2/2 [==============================] - 9s 5s/step - loss: 0.6881 - acc: 0.5000 - val_loss: 0.7166 - val_acc: 0.4344\n",
      "Epoch 2/40\n",
      "2/2 [==============================] - 7s 3s/step - loss: 0.7155 - acc: 0.3889 - val_loss: 0.6933 - val_acc: 0.4892\n",
      "Epoch 3/40\n",
      "2/2 [==============================] - 6s 3s/step - loss: 0.6963 - acc: 0.4167 - val_loss: 0.6867 - val_acc: 0.5720\n",
      "Epoch 4/40\n",
      "2/2 [==============================] - 7s 3s/step - loss: 0.7560 - acc: 0.1667 - val_loss: 0.6913 - val_acc: 0.5000\n",
      "Epoch 5/40\n",
      "2/2 [==============================] - 7s 3s/step - loss: 0.6911 - acc: 0.5000 - val_loss: 0.6952 - val_acc: 0.4333\n",
      "Epoch 6/40\n",
      "2/2 [==============================] - 7s 3s/step - loss: 0.7136 - acc: 0.3889 - val_loss: 0.6991 - val_acc: 0.4387\n",
      "Epoch 7/40\n",
      "2/2 [==============================] - 7s 3s/step - loss: 0.6724 - acc: 0.7778 - val_loss: 0.7004 - val_acc: 0.4379\n",
      "Epoch 8/40\n",
      "2/2 [==============================] - 7s 3s/step - loss: 0.6908 - acc: 0.4444 - val_loss: 0.7024 - val_acc: 0.4366\n",
      "Epoch 9/40\n",
      "2/2 [==============================] - 7s 3s/step - loss: 0.6788 - acc: 0.6111 - val_loss: 0.7046 - val_acc: 0.4430\n",
      "Epoch 10/40\n",
      "2/2 [==============================] - 7s 3s/step - loss: 0.7172 - acc: 0.3889 - val_loss: 0.7015 - val_acc: 0.4323\n",
      "Epoch 11/40\n",
      "2/2 [==============================] - 7s 3s/step - loss: 0.6586 - acc: 0.6667 - val_loss: 0.7016 - val_acc: 0.4409\n",
      "Epoch 12/40\n",
      "2/2 [==============================] - 6s 3s/step - loss: 0.6876 - acc: 0.4444 - val_loss: 0.7011 - val_acc: 0.4387\n",
      "Epoch 13/40\n",
      "2/2 [==============================] - 7s 3s/step - loss: 0.7057 - acc: 0.4444 - val_loss: 0.6946 - val_acc: 0.4495\n",
      "Epoch 14/40\n",
      "2/2 [==============================] - 7s 3s/step - loss: 0.6800 - acc: 0.4722 - val_loss: 0.6905 - val_acc: 0.5882\n",
      "Epoch 15/40\n",
      "2/2 [==============================] - 7s 3s/step - loss: 0.6652 - acc: 0.7778 - val_loss: 0.6832 - val_acc: 0.6140\n",
      "Epoch 16/40\n",
      "2/2 [==============================] - 7s 3s/step - loss: 0.6933 - acc: 0.5278 - val_loss: 0.6795 - val_acc: 0.5828\n",
      "Epoch 17/40\n",
      "2/2 [==============================] - 7s 3s/step - loss: 0.6692 - acc: 0.5833 - val_loss: 0.6818 - val_acc: 0.6065\n",
      "Epoch 18/40\n",
      "2/2 [==============================] - 7s 3s/step - loss: 0.6825 - acc: 0.5833 - val_loss: 0.6815 - val_acc: 0.6108\n",
      "Epoch 19/40\n",
      "2/2 [==============================] - 6s 3s/step - loss: 0.6610 - acc: 0.6667 - val_loss: 0.7077 - val_acc: 0.4871\n",
      "Epoch 20/40\n",
      "2/2 [==============================] - 7s 3s/step - loss: 0.6478 - acc: 0.6111 - val_loss: 0.7373 - val_acc: 0.4344\n",
      "Epoch 21/40\n",
      "2/2 [==============================] - 7s 3s/step - loss: 0.7077 - acc: 0.3889 - val_loss: 0.7075 - val_acc: 0.4924\n",
      "Epoch 22/40\n",
      "2/2 [==============================] - 7s 3s/step - loss: 0.6402 - acc: 0.6667 - val_loss: 0.6786 - val_acc: 0.5796\n",
      "Epoch 23/40\n",
      "2/2 [==============================] - 7s 3s/step - loss: 0.6264 - acc: 0.7222 - val_loss: 0.6641 - val_acc: 0.6065\n",
      "Epoch 24/40\n",
      "2/2 [==============================] - 6s 3s/step - loss: 0.6308 - acc: 0.7778 - val_loss: 0.6895 - val_acc: 0.5763\n",
      "Epoch 25/40\n",
      "2/2 [==============================] - 7s 3s/step - loss: 0.8104 - acc: 0.4444 - val_loss: 0.6881 - val_acc: 0.5742\n",
      "Epoch 26/40\n",
      "2/2 [==============================] - 7s 3s/step - loss: 0.6166 - acc: 0.7222 - val_loss: 0.6759 - val_acc: 0.5591\n",
      "Epoch 27/40\n",
      "2/2 [==============================] - 7s 3s/step - loss: 0.6292 - acc: 0.7222 - val_loss: 0.6664 - val_acc: 0.6065\n",
      "Epoch 28/40\n",
      "2/2 [==============================] - 6s 3s/step - loss: 0.6412 - acc: 0.5556 - val_loss: 0.7041 - val_acc: 0.5795\n",
      "Epoch 29/40\n",
      "2/2 [==============================] - 7s 3s/step - loss: 0.5989 - acc: 0.7500 - val_loss: 0.7996 - val_acc: 0.4774\n",
      "Epoch 30/40\n",
      "2/2 [==============================] - 7s 3s/step - loss: 0.6211 - acc: 0.6111 - val_loss: 0.8422 - val_acc: 0.4634\n",
      "Epoch 31/40\n",
      "2/2 [==============================] - 7s 3s/step - loss: 0.6417 - acc: 0.5556 - val_loss: 0.7848 - val_acc: 0.5226\n",
      "Epoch 32/40\n",
      "2/2 [==============================] - 7s 4s/step - loss: 0.4110 - acc: 0.8333 - val_loss: 0.7362 - val_acc: 0.5516\n",
      "Epoch 33/40\n",
      "2/2 [==============================] - 7s 3s/step - loss: 0.6578 - acc: 0.6667 - val_loss: 0.6877 - val_acc: 0.5817\n",
      "Epoch 34/40\n",
      "2/2 [==============================] - 7s 3s/step - loss: 0.5126 - acc: 0.7778 - val_loss: 0.6543 - val_acc: 0.6430\n",
      "Epoch 35/40\n",
      "2/2 [==============================] - 7s 3s/step - loss: 0.6845 - acc: 0.6667 - val_loss: 0.6572 - val_acc: 0.6383\n",
      "Epoch 36/40\n",
      "2/2 [==============================] - 6s 3s/step - loss: 0.7945 - acc: 0.5000 - val_loss: 0.6552 - val_acc: 0.6237\n",
      "Epoch 37/40\n",
      "2/2 [==============================] - 7s 3s/step - loss: 0.6255 - acc: 0.6111 - val_loss: 0.6433 - val_acc: 0.6065\n",
      "Epoch 38/40\n",
      "2/2 [==============================] - 7s 3s/step - loss: 0.6219 - acc: 0.6111 - val_loss: 0.6458 - val_acc: 0.5849\n",
      "Epoch 39/40\n",
      "2/2 [==============================] - 7s 3s/step - loss: 0.5646 - acc: 0.6667 - val_loss: 0.6638 - val_acc: 0.6172\n",
      "Epoch 40/40\n",
      "2/2 [==============================] - 7s 3s/step - loss: 0.6306 - acc: 0.6667 - val_loss: 0.6378 - val_acc: 0.6065\n"
     ]
    },
    {
     "data": {
      "text/plain": [
       "<keras.callbacks.History at 0x287a869e9e8>"
      ]
     },
     "execution_count": 17,
     "metadata": {},
     "output_type": "execute_result"
    }
   ],
   "source": [
    "model.fit_generator(x_train,samples_per_epoch = 21,epochs=40,validation_data=x_test,nb_val_samples=57)#(samples_per_epoch= no of traininig or testing images/batch size)\n",
    "                                                                        #                                                       =8000/32=250"
   ]
  },
  {
   "cell_type": "code",
   "execution_count": 19,
   "metadata": {},
   "outputs": [],
   "source": [
    "model.save('mymodel.h5')# this will save the weights,for keras h5 is extension"
   ]
  },
  {
   "cell_type": "code",
   "execution_count": null,
   "metadata": {},
   "outputs": [],
   "source": []
  },
  {
   "cell_type": "code",
   "execution_count": null,
   "metadata": {},
   "outputs": [],
   "source": []
  },
  {
   "cell_type": "code",
   "execution_count": null,
   "metadata": {},
   "outputs": [],
   "source": []
  }
 ],
 "metadata": {
  "kernelspec": {
   "display_name": "Python 3",
   "language": "python",
   "name": "python3"
  },
  "language_info": {
   "codemirror_mode": {
    "name": "ipython",
    "version": 3
   },
   "file_extension": ".py",
   "mimetype": "text/x-python",
   "name": "python",
   "nbconvert_exporter": "python",
   "pygments_lexer": "ipython3",
   "version": "3.7.3"
  }
 },
 "nbformat": 4,
 "nbformat_minor": 2
}
